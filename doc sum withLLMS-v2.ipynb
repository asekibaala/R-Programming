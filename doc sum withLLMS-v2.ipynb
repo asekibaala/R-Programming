{
 "cells": [
  {
   "cell_type": "code",
   "execution_count": 1,
   "id": "e89ca754-7273-41c1-8d46-658cbbc6c2dc",
   "metadata": {},
   "outputs": [],
   "source": [
    "from pathlib import Path\n",
    "from textwrap import fill\n",
    "\n",
    "import numpy as np\n",
    "import pandas as pd\n",
    "import requests\n",
    "import seaborn as sns\n",
    "import tiktoken\n",
    "from sklearn.model_selection import train_test_split\n",
    "from tqdm.auto import tqdm"
   ]
  },
  {
   "cell_type": "code",
   "execution_count": 2,
   "id": "5201e4d8-3183-4e1a-b4ea-a5c19f55c3c7",
   "metadata": {},
   "outputs": [
    {
     "name": "stdout",
     "output_type": "stream",
     "text": [
      "Requirement already satisfied: openai in /opt/anaconda3/lib/python3.12/site-packages (1.107.2)\n",
      "Requirement already satisfied: tiktoken in /opt/anaconda3/lib/python3.12/site-packages (0.11.0)\n",
      "Requirement already satisfied: anyio<5,>=3.5.0 in /opt/anaconda3/lib/python3.12/site-packages (from openai) (4.2.0)\n",
      "Requirement already satisfied: distro<2,>=1.7.0 in /opt/anaconda3/lib/python3.12/site-packages (from openai) (1.9.0)\n",
      "Requirement already satisfied: httpx<1,>=0.23.0 in /opt/anaconda3/lib/python3.12/site-packages (from openai) (0.27.0)\n",
      "Requirement already satisfied: jiter<1,>=0.4.0 in /opt/anaconda3/lib/python3.12/site-packages (from openai) (0.10.0)\n",
      "Requirement already satisfied: pydantic<3,>=1.9.0 in /opt/anaconda3/lib/python3.12/site-packages (from openai) (2.8.2)\n",
      "Requirement already satisfied: sniffio in /opt/anaconda3/lib/python3.12/site-packages (from openai) (1.3.0)\n",
      "Requirement already satisfied: tqdm>4 in /opt/anaconda3/lib/python3.12/site-packages (from openai) (4.66.5)\n",
      "Requirement already satisfied: typing-extensions<5,>=4.11 in /opt/anaconda3/lib/python3.12/site-packages (from openai) (4.11.0)\n",
      "Requirement already satisfied: regex>=2022.1.18 in /opt/anaconda3/lib/python3.12/site-packages (from tiktoken) (2024.9.11)\n",
      "Requirement already satisfied: requests>=2.26.0 in /opt/anaconda3/lib/python3.12/site-packages (from tiktoken) (2.32.3)\n",
      "Requirement already satisfied: idna>=2.8 in /opt/anaconda3/lib/python3.12/site-packages (from anyio<5,>=3.5.0->openai) (3.7)\n",
      "Requirement already satisfied: certifi in /opt/anaconda3/lib/python3.12/site-packages (from httpx<1,>=0.23.0->openai) (2025.6.15)\n",
      "Requirement already satisfied: httpcore==1.* in /opt/anaconda3/lib/python3.12/site-packages (from httpx<1,>=0.23.0->openai) (1.0.2)\n",
      "Requirement already satisfied: h11<0.15,>=0.13 in /opt/anaconda3/lib/python3.12/site-packages (from httpcore==1.*->httpx<1,>=0.23.0->openai) (0.14.0)\n",
      "Requirement already satisfied: annotated-types>=0.4.0 in /opt/anaconda3/lib/python3.12/site-packages (from pydantic<3,>=1.9.0->openai) (0.6.0)\n",
      "Requirement already satisfied: pydantic-core==2.20.1 in /opt/anaconda3/lib/python3.12/site-packages (from pydantic<3,>=1.9.0->openai) (2.20.1)\n",
      "Requirement already satisfied: charset-normalizer<4,>=2 in /opt/anaconda3/lib/python3.12/site-packages (from requests>=2.26.0->tiktoken) (3.3.2)\n",
      "Requirement already satisfied: urllib3<3,>=1.21.1 in /opt/anaconda3/lib/python3.12/site-packages (from requests>=2.26.0->tiktoken) (2.2.3)\n",
      "Note: you may need to restart the kernel to use updated packages.\n"
     ]
    }
   ],
   "source": [
    "pip install openai tiktoken"
   ]
  },
  {
   "cell_type": "code",
   "execution_count": null,
   "id": "0852d0dd-369e-40b3-beff-4975d3f742c9",
   "metadata": {},
   "outputs": [],
   "source": [
    "import os\n",
    "os.environ[\"OPENAI_API_KEY\"] = \"OPENAI_API_KEY\"  # paste your key here\n"
   ]
  },
  {
   "cell_type": "code",
   "execution_count": 4,
   "id": "cb82b007-582a-4a13-8702-400c2d8c5281",
   "metadata": {},
   "outputs": [
    {
     "name": "stdout",
     "output_type": "stream",
     "text": [
      "API connection successful.\n"
     ]
    }
   ],
   "source": [
    "from openai import OpenAI\n",
    "client = OpenAI()\n",
    "\n",
    "resp = client.chat.completions.create(\n",
    "    model=\"gpt-4o\",\n",
    "    messages=[{\"role\": \"user\", \"content\": \"Say 'API connection successful'\"}],\n",
    "    max_tokens=10\n",
    ")\n",
    "\n",
    "print(resp.choices[0].message.content)\n"
   ]
  },
  {
   "cell_type": "code",
   "execution_count": 5,
   "id": "e4ba7f96-c59c-4021-9ec8-43e216a20a84",
   "metadata": {},
   "outputs": [],
   "source": [
    "from openai import OpenAI\n",
    "client = OpenAI()   # connects to OpenAI’s servers using your API key\n",
    "MODEL = \"gpt-4o\"    # you can also try \"gpt-4-turbo\" or \"gpt-3.5-turbo\"\n",
    "DATA_DIR = Path.cwd().parent / \"data\""
   ]
  },
  {
   "cell_type": "code",
   "execution_count": 6,
   "id": "a91dc426-0454-454f-b32b-7e2f88521b9c",
   "metadata": {},
   "outputs": [],
   "source": [
    "df = pd.read_csv(DATA_DIR / \"/Users/asekibaala/Downloads/train.csv\", index_col=0)"
   ]
  },
  {
   "cell_type": "code",
   "execution_count": 7,
   "id": "9d322878-9585-4438-84b6-80dcfc992b2b",
   "metadata": {},
   "outputs": [
    {
     "data": {
      "text/html": [
       "<div>\n",
       "<style scoped>\n",
       "    .dataframe tbody tr th:only-of-type {\n",
       "        vertical-align: middle;\n",
       "    }\n",
       "\n",
       "    .dataframe tbody tr th {\n",
       "        vertical-align: top;\n",
       "    }\n",
       "\n",
       "    .dataframe thead th {\n",
       "        text-align: right;\n",
       "    }\n",
       "</style>\n",
       "<table border=\"1\" class=\"dataframe\">\n",
       "  <thead>\n",
       "    <tr style=\"text-align: right;\">\n",
       "      <th></th>\n",
       "      <th>text</th>\n",
       "      <th>summary</th>\n",
       "    </tr>\n",
       "    <tr>\n",
       "      <th>paper_id</th>\n",
       "      <th></th>\n",
       "      <th></th>\n",
       "    </tr>\n",
       "  </thead>\n",
       "  <tbody>\n",
       "    <tr>\n",
       "      <th>0</th>\n",
       "      <td>## FROM SOVEREIGNTY TO EXTRATERRITORIAL CONSCI...</td>\n",
       "      <td>In this article, Victor Fan argues that analys...</td>\n",
       "    </tr>\n",
       "    <tr>\n",
       "      <th>1</th>\n",
       "      <td>## 1. Introduction\\n\\n\\nAn Electronic Health R...</td>\n",
       "      <td>Problem definition: Physicians spend more than...</td>\n",
       "    </tr>\n",
       "    <tr>\n",
       "      <th>2</th>\n",
       "      <td>## Introduction\\n\\n\\nTranslation  plays  an  i...</td>\n",
       "      <td>Literary translation is one of the most challe...</td>\n",
       "    </tr>\n",
       "    <tr>\n",
       "      <th>3</th>\n",
       "      <td>## 1 Problem Setup\\n\\n\\nRecent political scien...</td>\n",
       "      <td>There is a long-running debate on evaluating f...</td>\n",
       "    </tr>\n",
       "    <tr>\n",
       "      <th>4</th>\n",
       "      <td>## INTRODUCTION\\n\\n\\nThis  article  investigat...</td>\n",
       "      <td>Recently, ‘bimajyo’ (美魔女) came into focus in J...</td>\n",
       "    </tr>\n",
       "    <tr>\n",
       "      <th>...</th>\n",
       "      <td>...</td>\n",
       "      <td>...</td>\n",
       "    </tr>\n",
       "    <tr>\n",
       "      <th>995</th>\n",
       "      <td>## Methods\\n\\n\\n\\n## Sample\\n\\n\\nOur data come...</td>\n",
       "      <td>Demand for democratic accountability in polici...</td>\n",
       "    </tr>\n",
       "    <tr>\n",
       "      <th>996</th>\n",
       "      <td>## Introduction\\n\\n\\nCanada is a high-income c...</td>\n",
       "      <td>Canada’s employment standards laws and mandato...</td>\n",
       "    </tr>\n",
       "    <tr>\n",
       "      <th>997</th>\n",
       "      <td>## Introduction\\n\\n\\nCultural studies has ofte...</td>\n",
       "      <td>Cultural studies has often favoured a Foucauld...</td>\n",
       "    </tr>\n",
       "    <tr>\n",
       "      <th>998</th>\n",
       "      <td>## 1. Introduction\\n\\n\\nTwentieth century plan...</td>\n",
       "      <td>Vehicular air pollution has created an ongoing...</td>\n",
       "    </tr>\n",
       "    <tr>\n",
       "      <th>999</th>\n",
       "      <td>## 1. Introduction\\n\\n\\nLongleaf pine ( Pinus ...</td>\n",
       "      <td>For the last several decades, a substantial am...</td>\n",
       "    </tr>\n",
       "  </tbody>\n",
       "</table>\n",
       "<p>1000 rows × 2 columns</p>\n",
       "</div>"
      ],
      "text/plain": [
       "                                                       text  \\\n",
       "paper_id                                                      \n",
       "0         ## FROM SOVEREIGNTY TO EXTRATERRITORIAL CONSCI...   \n",
       "1         ## 1. Introduction\\n\\n\\nAn Electronic Health R...   \n",
       "2         ## Introduction\\n\\n\\nTranslation  plays  an  i...   \n",
       "3         ## 1 Problem Setup\\n\\n\\nRecent political scien...   \n",
       "4         ## INTRODUCTION\\n\\n\\nThis  article  investigat...   \n",
       "...                                                     ...   \n",
       "995       ## Methods\\n\\n\\n\\n## Sample\\n\\n\\nOur data come...   \n",
       "996       ## Introduction\\n\\n\\nCanada is a high-income c...   \n",
       "997       ## Introduction\\n\\n\\nCultural studies has ofte...   \n",
       "998       ## 1. Introduction\\n\\n\\nTwentieth century plan...   \n",
       "999       ## 1. Introduction\\n\\n\\nLongleaf pine ( Pinus ...   \n",
       "\n",
       "                                                    summary  \n",
       "paper_id                                                     \n",
       "0         In this article, Victor Fan argues that analys...  \n",
       "1         Problem definition: Physicians spend more than...  \n",
       "2         Literary translation is one of the most challe...  \n",
       "3         There is a long-running debate on evaluating f...  \n",
       "4         Recently, ‘bimajyo’ (美魔女) came into focus in J...  \n",
       "...                                                     ...  \n",
       "995       Demand for democratic accountability in polici...  \n",
       "996       Canada’s employment standards laws and mandato...  \n",
       "997       Cultural studies has often favoured a Foucauld...  \n",
       "998       Vehicular air pollution has created an ongoing...  \n",
       "999       For the last several decades, a substantial am...  \n",
       "\n",
       "[1000 rows x 2 columns]"
      ]
     },
     "execution_count": 7,
     "metadata": {},
     "output_type": "execute_result"
    }
   ],
   "source": [
    "df"
   ]
  },
  {
   "cell_type": "code",
   "execution_count": 8,
   "id": "93a1a74e-f7e3-43b6-b6b1-ea9de4855a15",
   "metadata": {},
   "outputs": [
    {
     "name": "stdout",
     "output_type": "stream",
     "text": [
      "text        0\n",
      "summary     0\n",
      "text_len    0\n",
      "sum_len     0\n",
      "dtype: int64\n",
      "            text_len      sum_len\n",
      "count    1000.000000  1000.000000\n",
      "mean    42050.269000  1275.241000\n",
      "std     21412.146068   426.262199\n",
      "min     10145.000000    90.000000\n",
      "25%     28381.500000  1008.500000\n",
      "50%     38962.000000  1258.500000\n",
      "75%     51263.250000  1501.250000\n",
      "max    196911.000000  4359.000000\n"
     ]
    },
    {
     "data": {
      "image/png": "[encoded data removed]",
      "text/plain": [
       "<Figure size 1200x400 with 2 Axes>"
      ]
     },
     "metadata": {},
     "output_type": "display_data"
    }
   ],
   "source": [
    "import matplotlib.pyplot as plt\n",
    "\n",
    "df[\"text_len\"] = df[\"text\"].str.len()\n",
    "df[\"sum_len\"]  = df[\"summary\"].str.len()\n",
    "\n",
    "print(df.isnull().sum())\n",
    "print(df[[\"text_len\",\"sum_len\"]].describe())\n",
    "\n",
    "plt.figure(figsize=(12,4))\n",
    "plt.subplot(1,2,1); plt.hist(df[\"text_len\"], bins=40); plt.title(\"Paper length (chars)\")\n",
    "plt.subplot(1,2,2); plt.hist(df[\"sum_len\"],  bins=40); plt.title(\"Summary length (chars)\")\n",
    "plt.tight_layout(); plt.show()\n"
   ]
  },
  {
   "cell_type": "code",
   "execution_count": 9,
   "id": "eae5cb0f-5668-4dca-904e-fcd7f91540b2",
   "metadata": {},
   "outputs": [],
   "source": [
    "from rouge_score import rouge_scorer\n",
    "\n",
    "def rouge2_f1(pred: str, ref: str) -> float:\n",
    "    scorer = rouge_scorer.RougeScorer([\"rouge2\"], use_stemmer=True)\n",
    "    return scorer.score(ref, pred)[\"rouge2\"].fmeasure\n",
    "\n",
    "def evaluate_rouge2_mean(preds, refs):\n",
    "    return sum(rouge2_f1(p, r) for p, r in zip(preds, refs)) / len(refs)\n"
   ]
  },
  {
   "cell_type": "code",
   "execution_count": 10,
   "id": "89c15bf1-69a2-47b9-8d43-e26c35e8f6bb",
   "metadata": {},
   "outputs": [
    {
     "name": "stdout",
     "output_type": "stream",
     "text": [
      "Extractive baseline ROUGE-2 F1 (sample): 0.1095\n"
     ]
    }
   ],
   "source": [
    "import re, math, networkx as nx\n",
    "from sklearn.feature_extraction.text import TfidfVectorizer\n",
    "from sklearn.metrics.pairwise import cosine_similarity\n",
    "\n",
    "SENT_SPLIT_RE = re.compile(r'(?<=[.!?])\\s+')\n",
    "\n",
    "def split_sentences(text: str):\n",
    "    sents = [s.strip() for s in SENT_SPLIT_RE.split(text) if s.strip()]\n",
    "    return sents if sents else [text]\n",
    "\n",
    "def textrank_extract(text: str, k: int = 5):\n",
    "    sents = split_sentences(text)\n",
    "    if len(sents) <= k:\n",
    "        return \" \".join(sents)\n",
    "    tfidf = TfidfVectorizer().fit_transform(sents)\n",
    "    sim = cosine_similarity(tfidf)\n",
    "    g = nx.from_numpy_array(sim)\n",
    "    scores = nx.pagerank(g)\n",
    "    ranked = sorted(range(len(sents)), key=lambda i: scores[i], reverse=True)[:k]\n",
    "    ranked.sort()\n",
    "    return \" \".join(sents[i] for i in ranked)\n",
    "\n",
    "# quick check on a small sample\n",
    "sample = df.sample(20, random_state=42)\n",
    "preds = [textrank_extract(t, k=5) for t in sample[\"text\"]]\n",
    "score = evaluate_rouge2_mean(preds, sample[\"summary\"].tolist())\n",
    "print(\"Extractive baseline ROUGE-2 F1 (sample):\", round(score, 4))\n"
   ]
  },
  {
   "cell_type": "code",
   "execution_count": 11,
   "id": "09498732-2282-4b64-81f7-996797c94270",
   "metadata": {},
   "outputs": [],
   "source": [
    "import tiktoken\n",
    "enc = tiktoken.encoding_for_model(\"gpt-4o\")  # close enough tokenizer for counting\n",
    "\n",
    "def count_tokens(s: str) -> int:\n",
    "    return len(enc.encode(s))\n",
    "\n",
    "def chunk_by_tokens(text: str, max_tokens: int = 1800, overlap_tokens: int = 100):\n",
    "    tokens = enc.encode(text)\n",
    "    chunks = []\n",
    "    i = 0\n",
    "    while i < len(tokens):\n",
    "        j = min(i + max_tokens, len(tokens))\n",
    "        chunk = enc.decode(tokens[i:j])\n",
    "        chunks.append(chunk)\n",
    "        i = j - overlap_tokens\n",
    "        if i < 0: i = 0\n",
    "        if i >= len(tokens): break\n",
    "    return chunks\n"
   ]
  },
  {
   "cell_type": "code",
   "execution_count": 12,
   "id": "d82949d5-9022-463a-8cb0-343b09022028",
   "metadata": {},
   "outputs": [],
   "source": [
    "from openai import OpenAI\n",
    "#LLM_SERVER = \"http://localhost:11434\"\n",
    "MODEL = \"gpt-4o\"\n",
    "#client = OpenAI(base_url=LLM_SERVER + \"/v1\", api_key=\"not-used\")\n",
    "client = OpenAI()\n",
    "\n",
    "def llm_summarize_block(block: str, max_tokens: int = 500) -> str:\n",
    "    prompt = (\n",
    "        \"You are a careful scientific writer.\\n\"\n",
    "        \"Write a single concise paragraph (3-6 sentences) that summarizes the core claims, methods, and findings.\\n\"\n",
    "        \"Do not include references, citations, or headings. Only use information from the text.\\n\\n\"\n",
    "        f\"TEXT:\\n{block}\"\n",
    "    )\n",
    "    resp = client.chat.completions.create(\n",
    "        model=MODEL,\n",
    "        seed=0,\n",
    "        messages=[{\"role\":\"user\",\"content\":prompt}],\n",
    "        max_tokens=max_tokens,\n",
    "    )\n",
    "    return resp.choices[0].message.content.strip()\n"
   ]
  },
  {
   "cell_type": "code",
   "execution_count": 13,
   "id": "3932bb2a-8cef-4a1d-858a-4e008b82e272",
   "metadata": {},
   "outputs": [],
   "source": [
    "#def summarize_long_doc(text: str) -> str:\n",
    "    # 1) map: summarize chunks\n",
    "    #chunks = chunk_by_tokens(text, max_tokens=1800, overlap_tokens=100)\n",
    "    #partials = [llm_summarize_block(c, max_tokens=300) for c in chunks]\n",
    "\n",
    "    # 2) reduce: summarize the partial summaries into one paragraph\n",
    "    #reduce_input = \"\\n\\n\".join(partials)\n",
    "    #final = llm_summarize_block(reduce_input, max_tokens=250)\n",
    "    #return final\n"
   ]
  },
  {
   "cell_type": "code",
   "execution_count": 13,
   "id": "a29ea66e-9f5e-46eb-91a7-9ac497bf0ff2",
   "metadata": {},
   "outputs": [],
   "source": [
    "import gc, time\n",
    "\n",
    "def summarize_long_doc(text: str) -> str:\n",
    "    \"\"\"Chunked summarization that writes each partial chunk immediately.\"\"\"\n",
    "    chunks = chunk_by_tokens(text, max_tokens=1000, overlap_tokens=50)\n",
    "    partials = []\n",
    "\n",
    "    for i, c in enumerate(chunks, start=1):\n",
    "        print(f\"   ↳ Summarizing chunk {i}/{len(chunks)} ...\")\n",
    "        try:\n",
    "            summary_part = llm_summarize_block(c, max_tokens=250)\n",
    "            partials.append(summary_part)\n",
    "        except Exception as e:\n",
    "            print(f\" chunk {i} failed: {e}\")\n",
    "            partials.append(\"\")\n",
    "        gc.collect()\n",
    "        time.sleep(1)   # brief pause to reduce API/CPU pressure\n",
    "\n",
    "    # Reduce step: summarize the partial summaries only (tiny input)\n",
    "    reduce_input = \"\\n\\n\".join(partials)\n",
    "    print(\"   ↳ Combining partial summaries ...\")\n",
    "    final = llm_summarize_block(reduce_input[:6000], max_tokens=200)\n",
    "    return final\n"
   ]
  },
  {
   "cell_type": "code",
   "execution_count": null,
   "id": "22ba260c-baad-4ca4-854d-60fc55608bbc",
   "metadata": {},
   "outputs": [],
   "source": [
    "#from sklearn.model_selection import train_test_split\n",
    "\n",
    "#train_df, val_df = train_test_split(df, test_size=0.15, random_state=42)\n",
    "\n",
    "# Pick the summarizer you want to test:\n",
    "#summ_fn = summarize_long_doc      #chatgpt-4o\n",
    "\n",
    "#val_preds = [summ_fn(t) for t in val_df[\"text\"]]\n",
    "#val_score = evaluate_rouge2_mean(val_preds, val_df[\"summary\"].tolist())\n",
    "#print(\"Validation ROUGE-2 F1:\", round(val_score, 4))\n"
   ]
  },
  {
   "cell_type": "code",
   "execution_count": null,
   "id": "17d69e58-b068-4b86-aec0-158b464a4791",
   "metadata": {},
   "outputs": [
    {
     "name": "stdout",
     "output_type": "stream",
     "text": [
      "\n",
      "🔹 Summarizing paper 1/150...\n"
     ]
    }
   ],
   "source": [
    "from sklearn.model_selection import train_test_split\n",
    "\n",
    "train_df, val_df = train_test_split(df, test_size=0.15, random_state=42)\n",
    "\n",
    "# Pick the summarizer you want to test:\n",
    "summ_fn = summarize_long_doc      # using ChatGPT (gpt-4o)\n",
    "\n",
    "val_preds = []\n",
    "val_refs = val_df[\"summary\"].tolist()\n",
    "\n",
    "#  Process one document at a time to avoid memory overload\n",
    "for i, text in enumerate(val_df[\"text\"].head(5)):  # start with 5 for testing\n",
    "    print(f\"\\n🔹 Summarizing paper {i+1}/{len(val_df)}...\")\n",
    "    try:\n",
    "        summary = summ_fn(text)\n",
    "        val_preds.append(summary)\n",
    "    except Exception as e:\n",
    "        print(f\" Error on paper {i+1}: {e}\")\n",
    "        val_preds.append(\"\")  # keep alignment if one fails\n",
    "\n",
    "# Now evaluate\n",
    "val_score = evaluate_rouge2_mean(val_preds, val_refs[:len(val_preds)])\n",
    "print(\"\\n✅ Validation ROUGE-2 F1:\", round(val_score, 4))\n"
   ]
  },
  {
   "cell_type": "code",
   "execution_count": null,
   "id": "9955cabc-1167-40a2-b01d-39a5d9342a8d",
   "metadata": {},
   "outputs": [],
   "source": []
  }
 ],
 "metadata": {
  "kernelspec": {
   "display_name": "Python [conda env:base] *",
   "language": "python",
   "name": "conda-base-py"
  },
  "language_info": {
   "codemirror_mode": {
    "name": "ipython",
    "version": 3
   },
   "file_extension": ".py",
   "mimetype": "text/x-python",
   "name": "python",
   "nbconvert_exporter": "python",
   "pygments_lexer": "ipython3",
   "version": "3.12.7"
  }
 },
 "nbformat": 4,
 "nbformat_minor": 5
}
